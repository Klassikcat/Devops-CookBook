{
 "cells": [
  {
   "cell_type": "markdown",
   "id": "508f1304-2a22-49ad-b5b7-5eb7393bf562",
   "metadata": {},
   "source": [
    "# Lesson 2 - Session 1 - String is all you need"
   ]
  },
  {
   "cell_type": "markdown",
   "id": "0c2af4f8-c57b-4265-9c99-9452142594fe",
   "metadata": {},
   "source": [
    "### Learning Objectives:\n",
    "\n",
    "1. Understand that in Bash, all variables are treated as strings by default.\n",
    "2. Learn how to declare and initialize variables in Bash.\n",
    "3. Explore how to perform arithmetic operations in Bash and the need for explicit type conversion.\n",
    "4. Practice using declare and let for type conversion and arithmetic operations.\n",
    "5. Understand the implications of string-based operations in scripting and how to handle them."
   ]
  },
  {
   "cell_type": "markdown",
   "id": "abbdf6b7-a209-40cb-96e0-390b983bbe43",
   "metadata": {},
   "source": [
    "## 1. Understand Bash's variable and Environment variables\n",
    "\n",
    "Declare and initialize variables in Bash is very simple. You can declare a variable by assigning a value to it. You can also declare a variable by using the declare command. The declare command is used to create variables and assign attributes to them. You can see the example below."
   ]
  },
  {
   "cell_type": "code",
   "execution_count": 26,
   "id": "9ba1d74e-efd1-4211-b7f0-b94bfcb8964b",
   "metadata": {},
   "outputs": [
    {
     "name": "stdout",
     "output_type": "stream",
     "text": [
      "hello world!\n"
     ]
    }
   ],
   "source": [
    "%%bash\n",
    "\n",
    "textbook=\"hello world!\"\n",
    "echo $textbook"
   ]
  },
  {
   "cell_type": "markdown",
   "id": "89efdc51-582d-4fe5-b838-2d5334abf9af",
   "metadata": {},
   "source": [
    "Just type the variable name and assign the value to it. You can also use the declare command to declare a variable. You can see the example below."
   ]
  },
  {
   "cell_type": "code",
   "execution_count": 27,
   "id": "bc0c0098-8f7b-4109-8fda-022ec5146e11",
   "metadata": {},
   "outputs": [
    {
     "name": "stdout",
     "output_type": "stream",
     "text": [
      "value\n",
      "readonly\n"
     ]
    }
   ],
   "source": [
    "%%bash\n",
    "\n",
    "declare variable=\"value\"\n",
    "declare -r readonly=\"readonly\"\n",
    "\n",
    "echo \"$variable\"\n",
    "echo \"$readonly\""
   ]
  },
  {
   "cell_type": "markdown",
   "id": "987ed7c1-aafe-43fb-a392-f45c2eafc021",
   "metadata": {},
   "source": [
    "While it seems similar to the first example, there are two noticable differences between using `a=b` and `declare a=b`. First, a=b is global variable, while declare a=b is a local variable. for example, if you declare a variable in a function, it will be a local variable. You can see the example below."
   ]
  },
  {
   "cell_type": "code",
   "execution_count": 88,
   "id": "af43331a-0667-4028-a63d-1691e1fe87a4",
   "metadata": {},
   "outputs": [
    {
     "name": "stdout",
     "output_type": "stream",
     "text": [
      "globvar is set to 'hello' within function\n",
      "globvar is set to 'hello'\n"
     ]
    }
   ],
   "source": [
    "%%bash\n",
    "\n",
    "function global_variable_func() {\n",
    "    globvar=\"hello\" # here\n",
    "    echo \"globvar is set to '$globvar' within function\"\n",
    "}\n",
    "\n",
    "global_variable_func\n",
    "\n",
    "if [ -z ${globvar+x} ]; then\n",
    "    echo \"globvar is unset in global score\"\n",
    "else\n",
    "    echo \"globvar is set to '$globvar'\"\n",
    "fi"
   ]
  },
  {
   "cell_type": "code",
   "execution_count": 87,
   "id": "a7a747c7-69df-4786-abb9-013de17eecc2",
   "metadata": {},
   "outputs": [
    {
     "name": "stdout",
     "output_type": "stream",
     "text": [
      "localvar is set to 'world' within function\n",
      "localvar is unset on the global scope\n"
     ]
    }
   ],
   "source": [
    "%%bash\n",
    "\n",
    "function local_variable_func() {\n",
    "    declare localvar=\"world\" # here\n",
    "    echo \"localvar is set to '$localvar' within function\"\n",
    "}\n",
    "\n",
    "local_variable_func\n",
    "\n",
    "if [ -z ${localvar+x} ]; then\n",
    " echo \"localvar is unset on the global scope\"\n",
    "else\n",
    " echo \"localvar is set to '$localvar'\"\n",
    "fi"
   ]
  },
  {
   "cell_type": "markdown",
   "id": "8937b923-1dc2-4e53-b3a4-4661a2d5e484",
   "metadata": {},
   "source": [
    "And also, declare command has some additional attributes that can be used to declare variables. The `-r` option is used to declare a variable as read-only. If you try to change the value of a read-only variable, you will get an error like below."
   ]
  },
  {
   "cell_type": "code",
   "execution_count": 28,
   "id": "10d64d24-9a7c-495e-a038-266e49a03895",
   "metadata": {},
   "outputs": [
    {
     "name": "stderr",
     "output_type": "stream",
     "text": [
      "bash: line 3: readonly: readonly variable\n"
     ]
    },
    {
     "ename": "CalledProcessError",
     "evalue": "Command 'b'\\ndeclare -r readonly=\"readonly\"\\nreadonly=\"new value\"\\n'' returned non-zero exit status 1.",
     "output_type": "error",
     "traceback": [
      "\u001b[31m---------------------------------------------------------------------------\u001b[39m",
      "\u001b[31mCalledProcessError\u001b[39m                        Traceback (most recent call last)",
      "\u001b[36mCell\u001b[39m\u001b[36m \u001b[39m\u001b[32mIn[28]\u001b[39m\u001b[32m, line 1\u001b[39m\n\u001b[32m----> \u001b[39m\u001b[32m1\u001b[39m \u001b[43mget_ipython\u001b[49m\u001b[43m(\u001b[49m\u001b[43m)\u001b[49m\u001b[43m.\u001b[49m\u001b[43mrun_cell_magic\u001b[49m\u001b[43m(\u001b[49m\u001b[33;43m'\u001b[39;49m\u001b[33;43mbash\u001b[39;49m\u001b[33;43m'\u001b[39;49m\u001b[43m,\u001b[49m\u001b[43m \u001b[49m\u001b[33;43m'\u001b[39;49m\u001b[33;43m'\u001b[39;49m\u001b[43m,\u001b[49m\u001b[43m \u001b[49m\u001b[33;43m'\u001b[39;49m\u001b[38;5;130;43;01m\\n\u001b[39;49;00m\u001b[33;43mdeclare -r readonly=\u001b[39;49m\u001b[33;43m\"\u001b[39;49m\u001b[33;43mreadonly\u001b[39;49m\u001b[33;43m\"\u001b[39;49m\u001b[38;5;130;43;01m\\n\u001b[39;49;00m\u001b[33;43mreadonly=\u001b[39;49m\u001b[33;43m\"\u001b[39;49m\u001b[33;43mnew value\u001b[39;49m\u001b[33;43m\"\u001b[39;49m\u001b[38;5;130;43;01m\\n\u001b[39;49;00m\u001b[33;43m'\u001b[39;49m\u001b[43m)\u001b[49m\n",
      "\u001b[36mFile \u001b[39m\u001b[32m~/Projects/devops_cookbook/.venv/lib/python3.11/site-packages/IPython/core/interactiveshell.py:2539\u001b[39m, in \u001b[36mInteractiveShell.run_cell_magic\u001b[39m\u001b[34m(self, magic_name, line, cell)\u001b[39m\n\u001b[32m   2537\u001b[39m \u001b[38;5;28;01mwith\u001b[39;00m \u001b[38;5;28mself\u001b[39m.builtin_trap:\n\u001b[32m   2538\u001b[39m     args = (magic_arg_s, cell)\n\u001b[32m-> \u001b[39m\u001b[32m2539\u001b[39m     result = \u001b[43mfn\u001b[49m\u001b[43m(\u001b[49m\u001b[43m*\u001b[49m\u001b[43margs\u001b[49m\u001b[43m,\u001b[49m\u001b[43m \u001b[49m\u001b[43m*\u001b[49m\u001b[43m*\u001b[49m\u001b[43mkwargs\u001b[49m\u001b[43m)\u001b[49m\n\u001b[32m   2541\u001b[39m \u001b[38;5;66;03m# The code below prevents the output from being displayed\u001b[39;00m\n\u001b[32m   2542\u001b[39m \u001b[38;5;66;03m# when using magics with decorator @output_can_be_silenced\u001b[39;00m\n\u001b[32m   2543\u001b[39m \u001b[38;5;66;03m# when the last Python token in the expression is a ';'.\u001b[39;00m\n\u001b[32m   2544\u001b[39m \u001b[38;5;28;01mif\u001b[39;00m \u001b[38;5;28mgetattr\u001b[39m(fn, magic.MAGIC_OUTPUT_CAN_BE_SILENCED, \u001b[38;5;28;01mFalse\u001b[39;00m):\n",
      "\u001b[36mFile \u001b[39m\u001b[32m~/Projects/devops_cookbook/.venv/lib/python3.11/site-packages/IPython/core/magics/script.py:159\u001b[39m, in \u001b[36mScriptMagics._make_script_magic.<locals>.named_script_magic\u001b[39m\u001b[34m(line, cell)\u001b[39m\n\u001b[32m    157\u001b[39m \u001b[38;5;28;01melse\u001b[39;00m:\n\u001b[32m    158\u001b[39m     line = script\n\u001b[32m--> \u001b[39m\u001b[32m159\u001b[39m \u001b[38;5;28;01mreturn\u001b[39;00m \u001b[38;5;28;43mself\u001b[39;49m\u001b[43m.\u001b[49m\u001b[43mshebang\u001b[49m\u001b[43m(\u001b[49m\u001b[43mline\u001b[49m\u001b[43m,\u001b[49m\u001b[43m \u001b[49m\u001b[43mcell\u001b[49m\u001b[43m)\u001b[49m\n",
      "\u001b[36mFile \u001b[39m\u001b[32m~/Projects/devops_cookbook/.venv/lib/python3.11/site-packages/IPython/core/magics/script.py:336\u001b[39m, in \u001b[36mScriptMagics.shebang\u001b[39m\u001b[34m(self, line, cell)\u001b[39m\n\u001b[32m    331\u001b[39m \u001b[38;5;28;01mif\u001b[39;00m args.raise_error \u001b[38;5;129;01mand\u001b[39;00m p.returncode != \u001b[32m0\u001b[39m:\n\u001b[32m    332\u001b[39m     \u001b[38;5;66;03m# If we get here and p.returncode is still None, we must have\u001b[39;00m\n\u001b[32m    333\u001b[39m     \u001b[38;5;66;03m# killed it but not yet seen its return code. We don't wait for it,\u001b[39;00m\n\u001b[32m    334\u001b[39m     \u001b[38;5;66;03m# in case it's stuck in uninterruptible sleep. -9 = SIGKILL\u001b[39;00m\n\u001b[32m    335\u001b[39m     rc = p.returncode \u001b[38;5;129;01mor\u001b[39;00m -\u001b[32m9\u001b[39m\n\u001b[32m--> \u001b[39m\u001b[32m336\u001b[39m     \u001b[38;5;28;01mraise\u001b[39;00m CalledProcessError(rc, cell)\n",
      "\u001b[31mCalledProcessError\u001b[39m: Command 'b'\\ndeclare -r readonly=\"readonly\"\\nreadonly=\"new value\"\\n'' returned non-zero exit status 1."
     ]
    }
   ],
   "source": [
    "%%bash\n",
    "\n",
    "declare -r readonly=\"readonly\"\n",
    "readonly=\"new value\""
   ]
  },
  {
   "cell_type": "markdown",
   "id": "ea997ec3-2839-4cc0-b9ff-d7401443031a",
   "metadata": {},
   "source": [
    "You can also use the -a and -A option to declare an array and map variable, respectively. You can see the example below. We will discuss arrays in the L3-s1 part later, so don't worry about it now."
   ]
  },
  {
   "cell_type": "markdown",
   "id": "68281e67-130d-4f74-8768-6c03e6262800",
   "metadata": {},
   "source": [
    "#### Array"
   ]
  },
  {
   "cell_type": "code",
   "execution_count": 42,
   "id": "e7ac04b1-0ad2-4bde-ac88-72cbd9728171",
   "metadata": {},
   "outputs": [
    {
     "name": "stdout",
     "output_type": "stream",
     "text": [
      "arr full: value1 value2 value3\n",
      "arr length: 3\n",
      "First value of array: value1\n"
     ]
    }
   ],
   "source": [
    "%%bash\n",
    "\n",
    "declare -a array=(\"value1\" \"value2\" \"value3\")\n",
    "echo \"arr full: ${array[@]}\"\n",
    "echo \"arr length: ${#array[@]}\"\n",
    "echo \"First value of array: ${array[0]}\""
   ]
  },
  {
   "cell_type": "markdown",
   "id": "967f0dda-ed6b-4bb5-8c94-0ef1173bca90",
   "metadata": {},
   "source": [
    "#### Map"
   ]
  },
  {
   "cell_type": "markdown",
   "id": "953599d2-1ffe-46c2-85c2-d46f7e7d9436",
   "metadata": {},
   "source": [
    "if you're using Bash version 4.0 or later, you can use the -A option to declare a map variable. You can see the example below. We will discuss map in the L3-s1 part later, so don't worry about it now.\n",
    "\n",
    "If you're using zsh or older versions of Bash, you cannot use the declare command to declare a map variable, so it will raise an error. You can see the example below."
   ]
  },
  {
   "cell_type": "code",
   "execution_count": 43,
   "id": "66179656-c84d-44cb-8585-89ed451d6fe7",
   "metadata": {},
   "outputs": [
    {
     "name": "stderr",
     "output_type": "stream",
     "text": [
      "bash: line 2: declare: -A: invalid option\n",
      "declare: usage: declare [-afFirtx] [-p] [name[=value] ...]\n"
     ]
    },
    {
     "name": "stdout",
     "output_type": "stream",
     "text": [
      "Full map: \n",
      "Map length: 0\n",
      "Name: \n"
     ]
    }
   ],
   "source": [
    "%%bash\n",
    "\n",
    "declare -A map_arr \\\n",
    "map_arr[\"name\"]=\"John\" \\\n",
    "map_arr[\"age\"]=\"30\" \\\n",
    "map_arr[\"city\"]=\"New York\"\n",
    "\n",
    "echo \"Full map: ${map_arr[@]}\"\n",
    "echo \"Map length: ${#map_arr[@]}\"\n",
    "echo \"Name: ${map_arr[\"name\"]}\""
   ]
  },
  {
   "cell_type": "markdown",
   "id": "8c755d13-5fe9-43c7-b764-048e31ee4631",
   "metadata": {},
   "source": [
    "You can also use the declare command to list variables already declared. You can see the example below."
   ]
  },
  {
   "cell_type": "code",
   "execution_count": 25,
   "id": "7bcf0a63-0b96-4201-acb4-b346ca84f8ba",
   "metadata": {},
   "outputs": [
    {
     "name": "stdout",
     "output_type": "stream",
     "text": [
      "SHELL=/bin/zsh\n"
     ]
    }
   ],
   "source": [
    "%%bash\n",
    "\n",
    "declare | grep SHELL="
   ]
  },
  {
   "cell_type": "markdown",
   "id": "58091773-ef74-4047-a25a-9ae505ea14e9",
   "metadata": {},
   "source": [
    "This shows that the SHELL variable is an environment variable. Environment variables are variables that are available to all processes and are used to store information about the system environment. You can see the example below."
   ]
  },
  {
   "cell_type": "code",
   "execution_count": 45,
   "id": "e1871e14-3cc3-4820-a19e-bc1c800de6e9",
   "metadata": {},
   "outputs": [
    {
     "name": "stdout",
     "output_type": "stream",
     "text": [
      "example\n"
     ]
    }
   ],
   "source": [
    "%%bash\n",
    "\n",
    "export ENVVAR_EXAMPLE=\"example\"\n",
    "echo $ENVVAR_EXAMPLE"
   ]
  },
  {
   "cell_type": "code",
   "execution_count": 89,
   "id": "b3f7d02a-3308-44e4-880c-67a44c8d427b",
   "metadata": {},
   "outputs": [
    {
     "name": "stdout",
     "output_type": "stream",
     "text": [
      "example2\n"
     ]
    }
   ],
   "source": [
    "%%bash\n",
    "\n",
    "declare -x ENVVAR_EXAMPLE_2=\"example2\"\n",
    "echo $ENVVAR_EXAMPLE_2"
   ]
  },
  {
   "cell_type": "markdown",
   "id": "c9da2488-3ddd-40ab-80ec-3bcd068e8a0c",
   "metadata": {},
   "source": [
    "## 2. All variables are treated as strings by default"
   ]
  },
  {
   "cell_type": "markdown",
   "id": "af9c254f-f8a9-456c-9c8b-cad5763429aa",
   "metadata": {},
   "source": [
    "By default, all variables in Bash are treated as strings. Specifically, all variables in Bash are **untyped**, and if a variable contains only digits, it can be treated as an integer depending on the context. This can be confusing because it differs from other programming languages. Let's see how it works."
   ]
  },
  {
   "cell_type": "code",
   "execution_count": 27,
   "id": "9e8fa7e8-15a3-4b1e-8397-d0e070a6f180",
   "metadata": {},
   "outputs": [
    {
     "name": "stdout",
     "output_type": "stream",
     "text": [
      "result without expr: 5+3\n"
     ]
    }
   ],
   "source": [
    "%%bash\n",
    "\n",
    "a=5\n",
    "b=3\n",
    "output=$a+$b\n",
    "echo \"result without expr: $output\""
   ]
  },
  {
   "cell_type": "markdown",
   "id": "8026e6f2-1530-48c2-9358-fec2c1d46b07",
   "metadata": {},
   "source": [
    "As you can see, you cannot add or multiply the a and b variables just by declaring them and using `$a+$b`. All elements, including `+`, are treated as strings. However, you can perform integer calculations using the following three methods."
   ]
  },
  {
   "cell_type": "markdown",
   "id": "4faf603a-3042-4ced-9759-cdcf9d1f65b7",
   "metadata": {},
   "source": [
    "## 3. Calculation \n",
    "\n",
    "One way to perform integer operations in Bash is by using double brackets `$(())`. By declaring digit-only variables and using operators and variables in the `$((a + b))` format, you can perform arithmetic operations in Bash.\n",
    "\n",
    "Another way to perform integer operations in Bash is by using the expr command. By declaring digit-only variables and using operators and variables in the expr `$a + $b` format, you can perform arithmetic operations in Bash.\n",
    "\n",
    "You can also use the let syntax to perform arithmetic operations in Bash. By declaring digit-only variables and using operators and variables in the `let c=$a+$b` format, you can perform arithmetic operations in Bash.\n",
    "\n",
    "Operators that can be used in arithmetic operations are `+`, `-`, `*`, `/`, `%`, `**`, and `+=`, `-=`, `*=`, `/=`, `%=`, `**=` for assignment operations.\n"
   ]
  },
  {
   "cell_type": "code",
   "execution_count": 52,
   "id": "c03ecae1-6952-4627-916d-dd4e2e455bbd",
   "metadata": {},
   "outputs": [
    {
     "name": "stdout",
     "output_type": "stream",
     "text": [
      "result in (()): 15\n",
      "result in expr 50\n",
      "result in divide: 2\n",
      "result of square: 100000\n",
      "result of another square: \n",
      "result of plus equal: 50\n"
     ]
    }
   ],
   "source": [
    "%%bash\n",
    "\n",
    "a=10\n",
    "b=5\n",
    "double_brackets=$(($a + $b))\n",
    "expr_outputs=$(expr $a \\* $b)\n",
    "divide=$((a / b))\n",
    "square=$((a ** b))\n",
    "let plus_equal=$a*$b\n",
    "\n",
    "echo \"result in (()): $double_brackets\"\n",
    "echo \"result in expr $expr_outputs\"\n",
    "echo \"result in divide: $divide\"\n",
    "echo \"result of square: $square\"\n",
    "echo \"result of plus equal: $plus_equal\""
   ]
  },
  {
   "cell_type": "markdown",
   "id": "b9ab18c6-bc17-491b-868f-a3b6e2c58e64",
   "metadata": {},
   "source": [
    "One thing you should know is that only integers can be used in arithmetic operations. If you try to use floating-point numbers, you will get an error like below. You should use `bc` command to calculate floating-point numbers."
   ]
  },
  {
   "cell_type": "code",
   "execution_count": 31,
   "id": "a273ba86-a526-44ed-89d9-d84c6de4629a",
   "metadata": {},
   "outputs": [
    {
     "name": "stderr",
     "output_type": "stream",
     "text": [
      "bash: line 5: 5.3: syntax error: invalid arithmetic operator (error token is \".3\")\n",
      "expr: not a decimal number: '5.3'\n"
     ]
    },
    {
     "name": "stdout",
     "output_type": "stream",
     "text": [
      "result in (()): \n",
      "result in expr \n"
     ]
    }
   ],
   "source": [
    "%%bash\n",
    "\n",
    "a=5.3\n",
    "b=3.2\n",
    "\n",
    "double_brackets=$((a + b))\n",
    "expr_outputs=$(expr $a + $b)\n",
    "\n",
    "echo \"result in (()): $double_brackets\"\n",
    "echo \"result in expr $expr_outputs\""
   ]
  },
  {
   "cell_type": "markdown",
   "id": "533870f6-3ad4-433e-8b8b-5d4efb8bc18b",
   "metadata": {},
   "source": [
    "As you can see, floating points are treated as string, therefore error has raised in the script. but if you use bc, you can calculate floating point numbers."
   ]
  },
  {
   "cell_type": "code",
   "execution_count": 56,
   "id": "bc81c94d-3e76-459e-9b41-ebed20b2e267",
   "metadata": {},
   "outputs": [
    {
     "name": "stdout",
     "output_type": "stream",
     "text": [
      "Product: 32.9\n",
      "Quotient: 3.21\n",
      "Square: 106.0\n"
     ]
    }
   ],
   "source": [
    "%%bash\n",
    "\n",
    "num1=10.3\n",
    "num2=3.2\n",
    "\n",
    "product=$(echo \"$num1 * $num2\" | bc)\n",
    "quotient=$(echo \"scale=2; $num1 / $num2\" | bc)\n",
    "square=$(echo \"$num1 ^ 2\" | bc)\n",
    "\n",
    "echo \"Product: $product\"\n",
    "echo \"Quotient: $quotient\"\n",
    "echo \"Square: $square\""
   ]
  },
  {
   "cell_type": "markdown",
   "id": "6da92d3d-1dc3-4bf3-a0a2-433df954b91e",
   "metadata": {},
   "source": [
    "Unlike other programming languages, Bash does not support floating-point arithmetic. To perform such calculations, you need to use the bc command, a command-line calculator that handles floating-point arithmetic.\n",
    "\n",
    "While multiplication can be performed using the `*` operator, division requires the scale option in bc. The scale option specifies the number of decimal places in the result. For example, setting `scale=2` ensures that the quotient is rounded to two decimal places. Without this option, division results are truncated to the nearest integer."
   ]
  },
  {
   "cell_type": "code",
   "execution_count": 12,
   "id": "332cd195-6396-4c3e-a515-211539235c8c",
   "metadata": {},
   "outputs": [
    {
     "name": "stdout",
     "output_type": "stream",
     "text": [
      "3\n"
     ]
    }
   ],
   "source": [
    "%%bash\n",
    "\n",
    "num1=11\n",
    "num2=3\n",
    "\n",
    "quotient=$(echo \"$num1 / $num2\" | bc)\n",
    "echo $quotient"
   ]
  },
  {
   "cell_type": "markdown",
   "id": "23691bc3-3c0c-4e98-b0fa-975d216f41b0",
   "metadata": {},
   "source": [
    "## 4. Compare values"
   ]
  },
  {
   "cell_type": "markdown",
   "id": "c04a344f-e5c2-49f0-b9e6-1ad6b270a498",
   "metadata": {},
   "source": [
    "As I've described above, all values are treated as strings in Bash. Therefore, when you compare two variables, you should be careful. If you compare two variables, Bash will compare them as strings.\n",
    "\n",
    "You can use -eq for numeric comparison and = for string comparison. If you use -eq for string comparison, It will get error like below."
   ]
  },
  {
   "cell_type": "code",
   "execution_count": 17,
   "id": "4562204f-5fc2-44b0-8272-cfbce49ddb6d",
   "metadata": {},
   "outputs": [
    {
     "name": "stderr",
     "output_type": "stream",
     "text": [
      "bash: line 2: [: hi: integer expression expected\n"
     ]
    }
   ],
   "source": [
    "%%bash\n",
    "\n",
    "if [ \"hi\" -eq \"bye\" ]; then\n",
    "    echo \"true\"\n",
    "fi"
   ]
  },
  {
   "cell_type": "markdown",
   "id": "7c26708a-a0d0-4ecc-a757-3c9c14c2e252",
   "metadata": {},
   "source": [
    "However, it does not mean that you cannot compare numbers and string that contains only digits. In this situation, you can use -eq for comparison because it treat variables as integers. You can see the example below."
   ]
  },
  {
   "cell_type": "code",
   "execution_count": 15,
   "id": "e248d8c3-b76d-4cb5-a348-445551f1e422",
   "metadata": {},
   "outputs": [
    {
     "name": "stdout",
     "output_type": "stream",
     "text": [
      "Integer and string are equal\n"
     ]
    }
   ],
   "source": [
    "%%bash\n",
    "\n",
    "int=10\n",
    "str=\"10\"\n",
    "\n",
    "if [ \"$int\" -eq \"$str\" ]; then\n",
    "  echo \"Integer and string are equal\"\n",
    "else\n",
    "  echo \"Integer and string are not equal\"\n",
    "fi\n"
   ]
  },
  {
   "cell_type": "markdown",
   "id": "234d1456-eb18-40ed-8bf2-a31c4d92e104",
   "metadata": {},
   "source": [
    "If you want to compare floating-point numbers, you can use the bc chaining command to convert the numbers to integers and then compare them. You can see the example below. \n",
    "\n",
    "By the way, we will discuss of chaining command in the future section, so don't worry about it now. We will not use complex chaining command in this section."
   ]
  },
  {
   "cell_type": "code",
   "execution_count": 21,
   "id": "d33a1ffd-6b69-4cd6-8b51-e4d5ab26f97d",
   "metadata": {},
   "outputs": [
    {
     "name": "stdout",
     "output_type": "stream",
     "text": [
      "10.1 is bigger than 10\n"
     ]
    }
   ],
   "source": [
    "%%bash\n",
    "\n",
    "int=10\n",
    "float=10.1\n",
    "\n",
    "if [ \"$(echo \"$int < $float\" | bc)\" -eq 1 ]; then\n",
    "  echo \"$float is bigger than $int\"\n",
    "else\n",
    "  echo \"$int is bigger than $float\"\n",
    "fi"
   ]
  },
  {
   "cell_type": "markdown",
   "id": "decafd20-2d2d-48a9-b4ed-12398ce17d0b",
   "metadata": {},
   "source": [
    "## 5. Assginments"
   ]
  },
  {
   "cell_type": "markdown",
   "id": "dbdb589c-e163-44c1-ac2e-b367876b00e7",
   "metadata": {},
   "source": [
    "The assginment for this session is to create a script that calculates the area of a circle. The script should take the radius of the circle as an argument and output the area of the circle. The formula for calculating the area of a circle is `πr^2`, where `r` is the radius of the circle. You can use the value of `π` as 3.14, and radius as 10.5. scale of the result should be 2.\n",
    "\n",
    "you should use the `bc` command to calculate the floating-point number."
   ]
  },
  {
   "cell_type": "code",
   "execution_count": 75,
   "id": "b9de4f27-59f2-45a2-a14c-f7a5907fa08c",
   "metadata": {},
   "outputs": [],
   "source": [
    "%%bash\n",
    "\n",
    "declare -r radius=10.5\n",
    "declare -r phi=3.14\n",
    "\n",
    "formula=$(<your-answer-here>)\n",
    "echo $formula > ./s1-exercise/result.txt"
   ]
  },
  {
   "cell_type": "code",
   "execution_count": null,
   "id": "999ec9bf-93bc-4437-9620-bdc22a73d958",
   "metadata": {},
   "outputs": [],
   "source": [
    "with open(\"./s1-exercise/result.txt\", \"r\") as f:\n",
    "    output = f.read().strip()\n",
    "\n",
    "with open(\"./s1-exercise/answer.txt\", \"r\") as f:\n",
    "    answer = f.read().strip()\n",
    "\n",
    "assert float(output) == float(answer)\n",
    "print(\"You have successfully completed the assignment.\")"
   ]
  }
 ],
 "metadata": {
  "kernelspec": {
   "display_name": "Python 3 (ipykernel)",
   "language": "python",
   "name": "python3"
  },
  "language_info": {
   "codemirror_mode": {
    "name": "ipython",
    "version": 3
   },
   "file_extension": ".py",
   "mimetype": "text/x-python",
   "name": "python",
   "nbconvert_exporter": "python",
   "pygments_lexer": "ipython3",
   "version": "3.11.6"
  }
 },
 "nbformat": 4,
 "nbformat_minor": 5
}
