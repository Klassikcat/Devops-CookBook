{
 "cells": [
  {
   "cell_type": "markdown",
   "id": "da9e2c10-72ee-4120-8764-a81e2e1d94e6",
   "metadata": {},
   "source": [
    "# Lesson 2 - Session 2 - String mainpulation "
   ]
  },
  {
   "cell_type": "markdown",
   "id": "5feafd89-552f-4c9d-ad36-774909d1f9e3",
   "metadata": {},
   "source": [
    "### Learning Objectives\n",
    "\n",
    "1. Learn how to manipulate strings in Bash\n",
    "2. Learn what is regular expression and how to use pattern matching it in Bash\n",
    "3. Learn about useful tools like `jq`, `awk`, `sed` and `grep` for string manipulation in Bash\n",
    "4. Show the example of string manipulation in Bash\n",
    "5. Aknowledge the importance of string manipulation in data processing using bash script"
   ]
  },
  {
   "cell_type": "markdown",
   "id": "acd257f6-4522-4bbf-b6cf-b2d75ca14a6d",
   "metadata": {},
   "source": [
    "## 1. Introduction\n",
    "\n",
    "While bash script seems awkward for calculation and operations, it is very powerful for string manipulation. In this lesson, we will learn how to manipulate strings in Bash. We will also learn about regular expressions and how to use pattern matching in Bash. We will also learn about useful tools like `jq`, `awk`, `sed` and `grep` for string manipulation in Bash. We will show examples of string manipulation in Bash and acknowledge the importance of string manipulation in data processing using bash script."
   ]
  },
  {
   "cell_type": "markdown",
   "id": "e786b861-2a65-4f56-967e-6d20e6f80872",
   "metadata": {},
   "source": [
    "## 1-1. Why bash script for string manipulation?\n",
    "\n",
    "While it is true that every programming language can manipulate text, some languages are particularly well-suited for it. Python, for example, is widely used for its powerful built-in regular expression capabilities and data processing features. Perl is also one of the most powerful languages for string manipulation. However, learning Bash scripting for text processing is important as well. Not only is it the most commonly used language for system administration and automation, but it is also available on every Unix-like system by default, without requiring additional installation. Python, Lua, and Perl, on the other hand, need additional installation and configuration for many containers and cloud service VMs due to the need for lightweightness.\n",
    "\n",
    "Of course, Bash scripting is not as powerful as Python or Perl for text processing, but it is still very powerful and can handle most text processing tasks. It is also very fast and efficient for simple text processing tasks. For example, if you need to extract a few lines from a log file, or if you need to extract a few fields from a Json or CSV file, Bash scripting is a good choice. It is also very useful for automating repetitive tasks, such as renaming files, searching for files, and so on.\n",
    "\n",
    "Take a example of a simple configuration parsing and manipulation task. Suppose you have a configuration file `.env` that looks like this:\n",
    "\n",
    "```bash\n",
    "export PROXY_PASS=\"http://localhost:8080;\"\n",
    "export ALLOWED_IPS=\"192.168.0.0/24 1; 127.0.0.1/32 1; default 0;\"\n",
    "export VPC_IP_RANGES=\"192.168.0.0/16;\"\n",
    "```\n",
    "\n",
    "and nginx file `nginx.conf.template` like this\n",
    "\n",
    "```nginx\n",
    "user www-data;\n",
    "worker_processes auto;\n",
    "pid /run/nginx.pid;\n",
    "error_log /var/log/nginx/error.log;\n",
    "\n",
    "events {\n",
    "        worker_connections 768;\n",
    "}\n",
    "\n",
    "http {\n",
    "    map $remote_addr $allowed_ip {\n",
    "        ${ALLOWED_IPS}\n",
    "    }\n",
    "    server {\n",
    "        root /var/www/html;\n",
    "        index index.php index.html index.htm;\n",
    "\n",
    "        listen 8080;\n",
    "        server_name _;\n",
    "        \n",
    "        set_real_ip_from ${VPC_IP_RANGE}\n",
    "        real_ip_header X-Forwarded-For;\n",
    "\n",
    "        if ($allowed_ip = 0) {\n",
    "            return 404;\n",
    "        }\n",
    "        \n",
    "        location / {\n",
    "            proxy_pass ${PROXY_PASS}\n",
    "            proxy_set_header Host $host;\n",
    "            proxy_set_header X-Real-IP $remote_addr;\n",
    "            proxy_set_header X-Forwarded-For $proxy_add_x_forwarded_for;\n",
    "            proxy_set_header X-Forwarded-Proto $scheme;\n",
    "        }\n",
    "    }\n",
    "}\n",
    "```\n",
    "\n",
    "Then, you can install the configuration file into the nginx configuration file using the following Bash script:"
   ]
  },
  {
   "cell_type": "code",
   "execution_count": 15,
   "id": "d1bdaf07-89e0-4676-8634-3baf0345d536",
   "metadata": {},
   "outputs": [],
   "source": [
    "%%bash\n",
    "\n",
    "create_template_file() {\n",
    "    declare -r nginx_template=\"\n",
    "user www-data;\n",
    "worker_processes auto;\n",
    "pid /run/nginx.pid;\n",
    "error_log /var/log/nginx/error.log;\n",
    "\n",
    "events {\n",
    "        worker_connections 768;\n",
    "}\n",
    "\n",
    "http {\n",
    "    map \\$remote_addr \\$allowed_ip {\n",
    "        \\${ALLOWED_IPS}\n",
    "    }\n",
    "    server {\n",
    "        root /var/www/html;\n",
    "        index index.php index.html index.htm;\n",
    "\n",
    "        listen 8080;\n",
    "        server_name _;\n",
    "        \n",
    "        set_real_ip_from \\${VPC_IP_RANGE}\n",
    "        real_ip_header X-Forwarded-For;\n",
    "\n",
    "        if ($allowed_ip = 0) {\n",
    "            return 404;\n",
    "        }\n",
    "        \n",
    "        location / {\n",
    "            proxy_pass \\${PROXY_PASS}\n",
    "            proxy_set_header Host \\$host;\n",
    "            proxy_set_header X-Real-IP \\$remote_addr;\n",
    "            proxy_set_header X-Forwarded-For \\$proxy_add_x_forwarded_for;\n",
    "            proxy_set_header X-Forwarded-Proto \\$scheme;\n",
    "        }\n",
    "    }\n",
    "}\"\n",
    "    echo \"$nginx_template\" > nginx.conf.template\n",
    "    # End of example\n",
    "}\n",
    "\n",
    "create_env_file() {\n",
    "    cat <<EOF > .env\n",
    "export PROXY_PASS=\"http://localhost:8080;\"\n",
    "export ALLOWED_IPS=\"192.168.0.0/24 1; 127.0.0.1/32 1; default 0;\"\n",
    "export VPC_IP_RANGES=\"192.168.0.0/16;\"\n",
    "EOF\n",
    "}\n",
    "\n",
    "create_template_file && create_env_file\n",
    "\n",
    "set -a\n",
    ". .env\n",
    "set +a\n",
    "envsubst '$PROXY_PASS $ALLOWED_IPS $VPC_IP_RANGE' < nginx.conf.template > nginx.conf"
   ]
  },
  {
   "cell_type": "code",
   "execution_count": 17,
   "id": "3d2936f3-fd61-4279-ae1f-e9bdbd87fff6",
   "metadata": {},
   "outputs": [
    {
     "name": "stdout",
     "output_type": "stream",
     "text": [
      "\n",
      "user www-data;\n",
      "worker_processes auto;\n",
      "pid /run/nginx.pid;\n",
      "error_log /var/log/nginx/error.log;\n",
      "\n",
      "events {\n",
      "        worker_connections 768;\n",
      "}\n",
      "\n",
      "http {\n",
      "    map $remote_addr $allowed_ip {\n",
      "        192.168.0.0/24 1; 127.0.0.1/32 1; default 0;\n",
      "    }\n",
      "    server {\n",
      "        root /var/www/html;\n",
      "        index index.php index.html index.htm;\n",
      "\n",
      "        listen 8080;\n",
      "        server_name _;\n",
      "        \n",
      "        set_real_ip_from \n",
      "        real_ip_header X-Forwarded-For;\n",
      "\n",
      "        if ( = 0) {\n",
      "            return 404;\n",
      "        }\n",
      "        \n",
      "        location / {\n",
      "            proxy_pass http://localhost:8080;\n",
      "            proxy_set_header Host $host;\n",
      "            proxy_set_header X-Real-IP $remote_addr;\n",
      "            proxy_set_header X-Forwarded-For $proxy_add_x_forwarded_for;\n",
      "            proxy_set_header X-Forwarded-Proto $scheme;\n",
      "        }\n",
      "    }\n",
      "}\n",
      "\n"
     ]
    }
   ],
   "source": [
    "# must run this cell after running the above cell\n",
    "\n",
    "with open(\"./nginx.conf\", \"r\") as f:\n",
    "    print(f.read())"
   ]
  },
  {
   "cell_type": "markdown",
   "id": "191a6b17-d9a5-4031-a1b2-a4a1c29cd621",
   "metadata": {},
   "source": [
    "As you can see, the Bash script is very simple and easy to understand. It uses the `envsubst` command to substitute the environment variables in the `.env` file into the `nginx.conf.template` file. The resulting file is then saved as `nginx.conf`. This is a very simple example, but it shows how powerful Bash scripting can be for text processing tasks."
   ]
  },
  {
   "cell_type": "markdown",
   "id": "9277ac61-192f-4158-b09f-e56c4c9b2f8a",
   "metadata": {},
   "source": [
    "# 2. Useful tools for string manipulation in Bash\n",
    "\n",
    "As you can see above, bash can be a powerful tools for string manipulation. However, there are some tools that can make string manipulation in bash even easier. Here are some of the most useful tools for string manipulation in bash:"
   ]
  },
  {
   "cell_type": "markdown",
   "id": "06aa3844-8f09-44d1-bbbf-b03f223d13a5",
   "metadata": {},
   "source": [
    "## 2-1. `jq`\n",
    "\n",
    "jq is json processor that can be used to manipulate json data. It is very powerful and can be used to extract, filter, and manipulate json data. Here is an example of how to use jq to extract a field from a json file:\n",
    "\n",
    "Suppose you have a json file `data.json` that looks like this:"
   ]
  },
  {
   "cell_type": "code",
   "execution_count": 22,
   "id": "e0c7b3db-1d07-400f-b347-54fea3bca0af",
   "metadata": {},
   "outputs": [],
   "source": [
    "%%bash\n",
    "cat <<EOF > data.json\n",
    "{\n",
    "    \"name\": \"John Doe\",\n",
    "    \"age\": 30,\n",
    "    \"emails\": [\n",
    "        \"johndoe@gmail.com\",\n",
    "        \"janedoe@yahoo.com\",\n",
    "        \"google@naver.com\"\n",
    "    ]\n",
    "}\n",
    "EOF"
   ]
  },
  {
   "cell_type": "markdown",
   "id": "39e235a0-448a-41b9-89b8-81237e809ee1",
   "metadata": {},
   "source": [
    "You can use jq to extract the `name` field from the json file like this:"
   ]
  },
  {
   "cell_type": "code",
   "execution_count": 23,
   "id": "dcccea34-9486-402a-93f0-08af8a0c4d50",
   "metadata": {},
   "outputs": [
    {
     "name": "stdout",
     "output_type": "stream",
     "text": [
      "\"John Doe\"\n"
     ]
    }
   ],
   "source": [
    "%%bash\n",
    "\n",
    "jq '.name' data.json"
   ]
  },
  {
   "cell_type": "markdown",
   "id": "58e28394-b5e7-4fdf-9ca0-d2b7ab68b8b5",
   "metadata": {},
   "source": [
    "Of course, you can extract one element from the list in json file. For example, you can extract the first email address from the `emails` field like this:"
   ]
  },
  {
   "cell_type": "code",
   "execution_count": 24,
   "id": "ef4bb7b1-c33c-45fd-98eb-360cae71e5aa",
   "metadata": {},
   "outputs": [
    {
     "name": "stdout",
     "output_type": "stream",
     "text": [
      "\"johndoe@gmail.com\"\n"
     ]
    }
   ],
   "source": [
    "%%bash\n",
    "\n",
    "jq '.emails[0]' data.json"
   ]
  },
  {
   "cell_type": "markdown",
   "id": "aa7ad29f-d5fb-4479-bf47-3a7137d72cb5",
   "metadata": {},
   "source": [
    "## 2-2. `awk`\n",
    "\n",
    "If you use bash script for text processing, you will find `awk` to be very useful. `awk` is a powerful text processing tool that can be used to extract, filter, and manipulate text data. It can not only print file, but also can be used to extract fields, filter lines, calculate rows, and so on. This is an especially powerful tool for you can automate almost everything if you can use `awk` tool properly.\n",
    "\n",
    "`awk` sees string data as records that has fields. By default, `awk` sees each line as a record and each field is separated by whitespace. You can change the field separator by using the `-F` option. You can also change the record separator by using the `-v` option. You can also use regular expressions to match fields. `awk` has many built-in functions that can be used to manipulate text data. You can also define your own functions in `awk`.\n",
    "\n",
    "Here is an example of how to use `awk` to extract a field from a text file:"
   ]
  },
  {
   "cell_type": "code",
   "execution_count": 25,
   "id": "4ce84592-db23-448d-ba85-abeee820a4ec",
   "metadata": {},
   "outputs": [],
   "source": [
    "%%bash\n",
    "\n",
    "cat <<EOF > data.rows\n",
    "index name age email score grade\n",
    "0 jane 30 jane@gmail.com 98 A\n",
    "1 john 25 john@yahoo.com 85 B\n",
    "2 alice 28 alice@outlook.com 88 B+\n",
    "3 bob 22 bob@live.com 92 A-\n",
    "4 charlie 35 charlie@icloud.com 78 C+\n",
    "5 dave 27 dave@protonmail.com 81 B\n",
    "6 eve 29 eve@zoho.com 95 A\n",
    "EOF"
   ]
  },
  {
   "cell_type": "markdown",
   "id": "0e2a7198-3a75-453c-b93f-3aa56cba538f",
   "metadata": {},
   "source": [
    "### Print Rows\n",
    "\n",
    "You can use `awk` to extract the `name` field from the text file like this:"
   ]
  },
  {
   "cell_type": "code",
   "execution_count": 44,
   "id": "97f66e7f-1c33-4bdc-a6dc-7541b7583bf9",
   "metadata": {},
   "outputs": [
    {
     "name": "stdout",
     "output_type": "stream",
     "text": [
      ":: names are :: \n",
      "name\n",
      "jane\n",
      "john\n",
      "alice\n",
      "bob\n",
      "charlie\n",
      "dave\n",
      "eve\n"
     ]
    }
   ],
   "source": [
    "!echo \"$(awk '{print $2}' data.rows)\""
   ]
  },
  {
   "cell_type": "markdown",
   "id": "b6bd2d7b-f02b-4739-bc9d-a0335bc9c7b4",
   "metadata": {},
   "source": [
    "To print the row without the header, you can use just `NR > 1`, which indicates `row > 1` like the following command:"
   ]
  },
  {
   "cell_type": "code",
   "execution_count": 36,
   "id": "70454353-37ba-49af-a210-116293b7866e",
   "metadata": {},
   "outputs": [
    {
     "name": "stdout",
     "output_type": "stream",
     "text": [
      ":: names are :: \n",
      "jane\n",
      "john\n",
      "alice\n",
      "bob\n",
      "charlie\n",
      "dave\n",
      "eve\n"
     ]
    }
   ],
   "source": [
    "!echo \":: names are :: \\n$(awk 'NR > 1 {print $2}' data.rows)\""
   ]
  },
  {
   "cell_type": "markdown",
   "id": "2cebf2f4-cd4d-4e9f-9dc5-85fd8fc61035",
   "metadata": {},
   "source": [
    "You can also use `awk` for the row like below:"
   ]
  },
  {
   "cell_type": "code",
   "execution_count": 43,
   "id": "64d40d40-adfc-4e9f-a509-2aef97568ab7",
   "metadata": {},
   "outputs": [
    {
     "name": "stdout",
     "output_type": "stream",
     "text": [
      "Columns: index name age email score grade\n"
     ]
    }
   ],
   "source": [
    "!echo \"Columns: $(awk 'NR==1' data.rows)\""
   ]
  },
  {
   "cell_type": "markdown",
   "id": "4d1595e5-02dc-4934-b351-cfaa34da94eb",
   "metadata": {},
   "source": [
    "To extract without the index, you can use command like:"
   ]
  },
  {
   "cell_type": "code",
   "execution_count": 48,
   "id": "b4f97252-e6b7-4190-aa3f-7892363ec05d",
   "metadata": {},
   "outputs": [
    {
     "name": "stdout",
     "output_type": "stream",
     "text": [
      "Columns without index: \n",
      "name\n",
      "age\n",
      "email\n",
      "score\n",
      "grade\n"
     ]
    }
   ],
   "source": [
    "!echo \"Columns without index: \\n$(awk 'NR==1 {for(i=2; i<=NF; i++) print $i}' data.rows)\""
   ]
  }
 ],
 "metadata": {
  "kernelspec": {
   "display_name": "Python 3 (ipykernel)",
   "language": "python",
   "name": "python3"
  },
  "language_info": {
   "codemirror_mode": {
    "name": "ipython",
    "version": 3
   },
   "file_extension": ".py",
   "mimetype": "text/x-python",
   "name": "python",
   "nbconvert_exporter": "python",
   "pygments_lexer": "ipython3",
   "version": "3.11.6"
  }
 },
 "nbformat": 4,
 "nbformat_minor": 5
}
