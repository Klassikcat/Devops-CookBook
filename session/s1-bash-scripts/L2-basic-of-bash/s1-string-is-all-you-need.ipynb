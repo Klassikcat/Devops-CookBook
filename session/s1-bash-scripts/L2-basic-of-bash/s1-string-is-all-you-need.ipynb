{
 "cells": [
  {
   "cell_type": "markdown",
   "id": "508f1304-2a22-49ad-b5b7-5eb7393bf562",
   "metadata": {},
   "source": [
    "# Lesson 2 - Session 1 - String is all you need"
   ]
  },
  {
   "cell_type": "markdown",
   "id": "0c2af4f8-c57b-4265-9c99-9452142594fe",
   "metadata": {},
   "source": [
    "### Learning Objectives:\n",
    "\n",
    "1. Understand that in Bash, all variables are treated as strings by default.\n",
    "2. Learn how to declare and initialize variables in Bash.\n",
    "3. Explore how to perform arithmetic operations in Bash and the need for explicit type conversion.\n",
    "4. Practice using declare and let for type conversion and arithmetic operations.\n",
    "5. Understand the implications of string-based operations in scripting and how to handle them."
   ]
  },
  {
   "cell_type": "markdown",
   "id": "c9da2488-3ddd-40ab-80ec-3bcd068e8a0c",
   "metadata": {},
   "source": [
    "## 1. All variables are treated as strings by default"
   ]
  },
  {
   "cell_type": "markdown",
   "id": "af9c254f-f8a9-456c-9c8b-cad5763429aa",
   "metadata": {},
   "source": [
    "By default, all variables in Bash are treated as strings. Specifically, all variables in Bash are **untyped**, and if a variable contains only digits, it can be treated as an integer depending on the context. This can be confusing because it differs from other programming languages. Let's see how it works."
   ]
  },
  {
   "cell_type": "code",
   "execution_count": 27,
   "id": "9e8fa7e8-15a3-4b1e-8397-d0e070a6f180",
   "metadata": {},
   "outputs": [
    {
     "name": "stdout",
     "output_type": "stream",
     "text": [
      "result without expr: 5+3\n"
     ]
    }
   ],
   "source": [
    "%%bash\n",
    "\n",
    "a=5\n",
    "b=3\n",
    "output=$a+$b\n",
    "echo \"result without expr: $output\""
   ]
  },
  {
   "cell_type": "markdown",
   "id": "8026e6f2-1530-48c2-9358-fec2c1d46b07",
   "metadata": {},
   "source": [
    "As you can see, you cannot add or multiply the a and b variables just by declaring them and using `$a+$b`. All elements, including `+`, are treated as strings. However, you can perform integer calculations using the following three methods."
   ]
  },
  {
   "cell_type": "markdown",
   "id": "4faf603a-3042-4ced-9759-cdcf9d1f65b7",
   "metadata": {},
   "source": [
    "## 2. Calculation \n",
    "\n",
    "One way to perform integer operations in Bash is by using double brackets `$(())`. By declaring digit-only variables and using operators and variables in the `$((a + b))` format, you can perform arithmetic operations in Bash.\n",
    "\n",
    "Another way to perform integer operations in Bash is by using the expr command. By declaring digit-only variables and using operators and variables in the expr `$a + $b` format, you can perform arithmetic operations in Bash.\n",
    "\n",
    "You can also use the let syntax to perform arithmetic operations in Bash. By declaring digit-only variables and using operators and variables in the `let c=$a+$b` format, you can perform arithmetic operations in Bash.\n",
    "\n",
    "Operators that can be used in arithmetic operations are `+`, `-`, `*`, `/`, `%`, `**`, and `+=`, `-=`, `*=`, `/=`, `%=`, `**=` for assignment operations.\n"
   ]
  },
  {
   "cell_type": "code",
   "execution_count": 47,
   "id": "c03ecae1-6952-4627-916d-dd4e2e455bbd",
   "metadata": {},
   "outputs": [
    {
     "name": "stdout",
     "output_type": "stream",
     "text": [
      "result in (()): 15\n",
      "result in expr 50\n",
      "result in divide: 2\n",
      "result of square: 100000\n",
      "result of plus equal: 50\n"
     ]
    }
   ],
   "source": [
    "%%bash\n",
    "\n",
    "a=10\n",
    "b=5\n",
    "double_brackets=$(($a + $b))\n",
    "expr_outputs=$(expr $a \\* $b)\n",
    "divide=$((a / b))\n",
    "square=$((a ** b))\n",
    "let plus_equal=$a*$b\n",
    "\n",
    "echo \"result in (()): $double_brackets\"\n",
    "echo \"result in expr $expr_outputs\"\n",
    "echo \"result in divide: $divide\"\n",
    "echo \"result of square: $square\"\n",
    "echo \"result of plus equal: $plus_equal\""
   ]
  },
  {
   "cell_type": "markdown",
   "id": "b9ab18c6-bc17-491b-868f-a3b6e2c58e64",
   "metadata": {},
   "source": [
    "One thing you should know is that only integers can be used in arithmetic operations. If you try to use floating-point numbers, you will get an error like below. You should use `bc` command to calculate floating-point numbers."
   ]
  },
  {
   "cell_type": "code",
   "execution_count": 31,
   "id": "a273ba86-a526-44ed-89d9-d84c6de4629a",
   "metadata": {},
   "outputs": [
    {
     "name": "stderr",
     "output_type": "stream",
     "text": [
      "bash: line 5: 5.3: syntax error: invalid arithmetic operator (error token is \".3\")\n",
      "expr: not a decimal number: '5.3'\n"
     ]
    },
    {
     "name": "stdout",
     "output_type": "stream",
     "text": [
      "result in (()): \n",
      "result in expr \n"
     ]
    }
   ],
   "source": [
    "%%bash\n",
    "\n",
    "a=5.3\n",
    "b=3.2\n",
    "\n",
    "double_brackets=$((a + b))\n",
    "expr_outputs=$(expr $a + $b)\n",
    "\n",
    "echo \"result in (()): $double_brackets\"\n",
    "echo \"result in expr $expr_outputs\""
   ]
  },
  {
   "cell_type": "markdown",
   "id": "533870f6-3ad4-433e-8b8b-5d4efb8bc18b",
   "metadata": {},
   "source": [
    "As you can see, floating points are treated as string, therefore error has raised in the script. but if you use bc, you can calculate floating point numbers."
   ]
  },
  {
   "cell_type": "code",
   "execution_count": 8,
   "id": "bc81c94d-3e76-459e-9b41-ebed20b2e267",
   "metadata": {},
   "outputs": [
    {
     "name": "stdout",
     "output_type": "stream",
     "text": [
      "Product: 32.9\n",
      "Quotient: 3.21\n"
     ]
    }
   ],
   "source": [
    "%%bash\n",
    "\n",
    "num1=10.3\n",
    "num2=3.2\n",
    "\n",
    "product=$(echo \"$num1 * $num2\" | bc)\n",
    "quotient=$(echo \"scale=2; $num1 / $num2\" | bc)\n",
    "\n",
    "echo \"Product: $product\"\n",
    "echo \"Quotient: $quotient\""
   ]
  },
  {
   "cell_type": "markdown",
   "id": "6da92d3d-1dc3-4bf3-a0a2-433df954b91e",
   "metadata": {},
   "source": [
    "Unlike other programming languages, Bash does not support floating-point arithmetic. To perform such calculations, you need to use the bc command, a command-line calculator that handles floating-point arithmetic.\n",
    "\n",
    "While multiplication can be performed using the `*` operator, division requires the scale option in bc. The scale option specifies the number of decimal places in the result. For example, setting `scale=2` ensures that the quotient is rounded to two decimal places. Without this option, division results are truncated to the nearest integer."
   ]
  },
  {
   "cell_type": "code",
   "execution_count": 12,
   "id": "332cd195-6396-4c3e-a515-211539235c8c",
   "metadata": {},
   "outputs": [
    {
     "name": "stdout",
     "output_type": "stream",
     "text": [
      "3\n"
     ]
    }
   ],
   "source": [
    "%%bash\n",
    "\n",
    "num1=11\n",
    "num2=3\n",
    "\n",
    "quotient=$(echo \"$num1 / $num2\" | bc)\n",
    "echo $quotient"
   ]
  },
  {
   "cell_type": "markdown",
   "id": "23691bc3-3c0c-4e98-b0fa-975d216f41b0",
   "metadata": {},
   "source": [
    "## 3. Compare values"
   ]
  },
  {
   "cell_type": "markdown",
   "id": "c04a344f-e5c2-49f0-b9e6-1ad6b270a498",
   "metadata": {},
   "source": [
    "As I've described above, all values are treated as strings in Bash. Therefore, when you compare two variables, you should be careful. If you compare two variables, Bash will compare them as strings.\n",
    "\n",
    "You can use -eq for numeric comparison and = for string comparison. If you use -eq for string comparison, It will get error like below."
   ]
  },
  {
   "cell_type": "code",
   "execution_count": 17,
   "id": "4562204f-5fc2-44b0-8272-cfbce49ddb6d",
   "metadata": {},
   "outputs": [
    {
     "name": "stderr",
     "output_type": "stream",
     "text": [
      "bash: line 2: [: hi: integer expression expected\n"
     ]
    }
   ],
   "source": [
    "%%bash\n",
    "\n",
    "if [ \"hi\" -eq \"bye\" ]; then\n",
    "    echo \"true\"\n",
    "fi"
   ]
  },
  {
   "cell_type": "markdown",
   "id": "7c26708a-a0d0-4ecc-a757-3c9c14c2e252",
   "metadata": {},
   "source": [
    "However, it does not mean that you cannot compare numbers and string that contains only digits. In this situation, you can use -eq for comparison because it treat variables as integers. You can see the example below."
   ]
  },
  {
   "cell_type": "code",
   "execution_count": 15,
   "id": "e248d8c3-b76d-4cb5-a348-445551f1e422",
   "metadata": {},
   "outputs": [
    {
     "name": "stdout",
     "output_type": "stream",
     "text": [
      "Integer and string are equal\n"
     ]
    }
   ],
   "source": [
    "%%bash\n",
    "\n",
    "int=10\n",
    "str=\"10\"\n",
    "\n",
    "if [ \"$int\" -eq \"$str\" ]; then\n",
    "  echo \"Integer and string are equal\"\n",
    "else\n",
    "  echo \"Integer and string are not equal\"\n",
    "fi\n"
   ]
  }
 ],
 "metadata": {
  "kernelspec": {
   "display_name": "Python 3 (ipykernel)",
   "language": "python",
   "name": "python3"
  },
  "language_info": {
   "codemirror_mode": {
    "name": "ipython",
    "version": 3
   },
   "file_extension": ".py",
   "mimetype": "text/x-python",
   "name": "python",
   "nbconvert_exporter": "python",
   "pygments_lexer": "ipython3",
   "version": "3.11.6"
  }
 },
 "nbformat": 4,
 "nbformat_minor": 5
}
