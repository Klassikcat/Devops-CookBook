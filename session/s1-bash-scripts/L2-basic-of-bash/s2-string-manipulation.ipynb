{
 "cells": [
  {
   "cell_type": "markdown",
   "id": "da9e2c10-72ee-4120-8764-a81e2e1d94e6",
   "metadata": {},
   "source": [
    "# Lesson 2 - Session 2 - String mainpulation "
   ]
  },
  {
   "cell_type": "markdown",
   "id": "5feafd89-552f-4c9d-ad36-774909d1f9e3",
   "metadata": {},
   "source": [
    "### Learning Objectives\n",
    "\n",
    "1. Learn how to manipulate strings in Bash\n",
    "2. Learn what is regular expression and how to use pattern matching it in Bash\n",
    "3. Learn about useful tools like `jq`, `awk`, `sed` and `grep` for string manipulation in Bash\n",
    "4. Show the example of string manipulation in Bash\n",
    "5. Aknowledge the importance of string manipulation in data processing using bash script"
   ]
  },
  {
   "cell_type": "markdown",
   "id": "acd257f6-4522-4bbf-b6cf-b2d75ca14a6d",
   "metadata": {},
   "source": [
    "## 1. Introduction\n",
    "\n",
    "While bash script seems awkward for calculation and operations, it is very powerful for string manipulation. In this lesson, we will learn how to manipulate strings in Bash. We will also learn about regular expressions and how to use pattern matching in Bash. We will also learn about useful tools like `jq`, `awk`, `sed` and `grep` for string manipulation in Bash. We will show examples of string manipulation in Bash and acknowledge the importance of string manipulation in data processing using bash script."
   ]
  },
  {
   "cell_type": "markdown",
   "id": "e786b861-2a65-4f56-967e-6d20e6f80872",
   "metadata": {},
   "source": [
    "### 1-1. Why bash script for string manipulation?\n",
    "\n",
    "While it is true that every programming language can manipulate text, some languages are particularly well-suited for it. Python, for example, is a widely used tool known for its powerful built-in regular expression capabilities and data processing features. Perl is also one of the most powerful languages for string manipulation. However, learning Bash scripting for text processing is important as well. Not only is it the most commonly used language for system administration and automation, but it is also available on every Unix-like system by default, without requiring additional installation.\n",
    "\n",
    "Python, however, is notorious for its poor package management. While it can be used both interactively in a console and as a script, installing Python on every system is not always straightforward. For instance, if you need to run a script on a stateless CI server like GitHub Actions, you must install Python 3 and its dependencies on every run. This increases build time due to the overhead of installing Python and its packages, even if you use modern tools like uv instead of pip for package management.\n",
    "\n",
    "In contrast, Bash is available on every Unix-like system without any additional setup. You can execute Bash scripts on any Unix-like system immediately, without installation. This is why Bash remains the most commonly used language for system administration and automation."
   ]
  }
 ],
 "metadata": {
  "kernelspec": {
   "display_name": "Python 3 (ipykernel)",
   "language": "python",
   "name": "python3"
  },
  "language_info": {
   "codemirror_mode": {
    "name": "ipython",
    "version": 3
   },
   "file_extension": ".py",
   "mimetype": "text/x-python",
   "name": "python",
   "nbconvert_exporter": "python",
   "pygments_lexer": "ipython3",
   "version": "3.11.6"
  }
 },
 "nbformat": 4,
 "nbformat_minor": 5
}
