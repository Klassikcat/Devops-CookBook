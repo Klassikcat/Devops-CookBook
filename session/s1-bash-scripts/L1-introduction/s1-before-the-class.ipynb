{
 "cells": [
  {
   "cell_type": "markdown",
   "id": "3029677b-c0f2-4e37-a09e-6ee169c7ff98",
   "metadata": {},
   "source": [
    "# Introduction of Bash scripts in jupyter"
   ]
  },
  {
   "cell_type": "markdown",
   "id": "b966af1a-df63-4f53-bbf8-f611ee96cf53",
   "metadata": {},
   "source": [
    "## What is bash script?"
   ]
  },
  {
   "cell_type": "markdown",
   "id": "0ffa069f-697a-4957-9176-e6d71c75235d",
   "metadata": {},
   "source": [
    "A Bash script is a plain text file containing a series of commands that are executed by the Bash shell. Bash, which stands for \"Bourne Again SHell,\" is a command processor that typically runs in a text window where the user types commands that cause actions. A Bash script allows you to automate tasks, run multiple commands in sequence, and create complex workflows.\n",
    "\n",
    "Bash scripting is essential for system administration, software development, and data analysis. However, it is especially crucial for DevOps and SRE roles, as it serves as a primary tool for automating tasks in Linux and Unix environments. Given that most modern web back-end systems run on Linux servers, proficiency in Bash is highly valuable in these fields."
   ]
  },
  {
   "cell_type": "markdown",
   "id": "c6db0479-2e03-4d99-8a22-f1d21c15d4ff",
   "metadata": {},
   "source": [
    "## How to use bash script in jupyter notebook?"
   ]
  },
  {
   "cell_type": "markdown",
   "id": "0b4cfe78-a44a-40a9-bb39-891f15def0f6",
   "metadata": {},
   "source": [
    "### Hello world example"
   ]
  },
  {
   "cell_type": "markdown",
   "id": "d09cbfc5-d648-4185-88a5-2b3c0d5269a9",
   "metadata": {},
   "source": [
    "To use simple single-line bash script, just use `!<script>`. for example, you can print `hello world!` using:  "
   ]
  },
  {
   "cell_type": "code",
   "execution_count": 26,
   "id": "bb0a7eb8-49ee-4cc7-8545-0200b9cc01ec",
   "metadata": {},
   "outputs": [
    {
     "name": "stdout",
     "output_type": "stream",
     "text": [
      "hello world!\n"
     ]
    }
   ],
   "source": [
    "!echo \"hello world!\""
   ]
  },
  {
   "cell_type": "markdown",
   "id": "4bffb8d8-519f-41f6-a432-f1f84675f778",
   "metadata": {},
   "source": [
    "You can also use %system magic command to run single-line bash script."
   ]
  },
  {
   "cell_type": "code",
   "execution_count": 8,
   "id": "0c1f87e9-2b6a-453d-9c73-037fbd123231",
   "metadata": {},
   "outputs": [
    {
     "name": "stdout",
     "output_type": "stream",
     "text": [
      "lines are: ['total 16', '-rw-r--r--@ 1 sinjeongtae  staff    12 Mar  8 14:39 introduction-of-bash.sh', '-rw-r--r--@ 1 sinjeongtae  staff  3965 Mar  9 16:58 s1-introduction-of-bash.ipynb']\n",
      "current directory is: ['L1-everything-is-string']\n"
     ]
    }
   ],
   "source": [
    "lines = %system ls -l\n",
    "current_dir = %system basename $PWD \n",
    "print(f\"lines are: {lines}\")\n",
    "print(f\"current directory is: {current_dir}\")"
   ]
  },
  {
   "cell_type": "markdown",
   "id": "ed4d77bf-c87f-4a04-840a-3e29e15cf5c8",
   "metadata": {},
   "source": [
    "### multi-line bash script"
   ]
  },
  {
   "cell_type": "markdown",
   "id": "f8b90eb7-ca4a-4d48-93b0-e8b750e440f7",
   "metadata": {},
   "source": [
    "There are 3 way to run multi-line bash script in juptyer notebook. \n",
    "\n",
    "1. Cell magic syntax `%%bash`\n",
    "2. `subprocess` package\n",
    "3. `os.system` package\n",
    "\n",
    "I recommend using the first method among the three lists because it is convenient to use within a jupyter cell. The second and third methods pose injection risks, so it is advisable to avoid using them in production code as much as possible."
   ]
  },
  {
   "cell_type": "markdown",
   "id": "fd1c2541-1099-494f-8414-4e0eeff4403d",
   "metadata": {},
   "source": [
    "#### 1. Cell magic syntax `%%bash`"
   ]
  },
  {
   "cell_type": "code",
   "execution_count": 10,
   "id": "88a43f52-fd86-4ef8-a940-5c3c6ee38752",
   "metadata": {},
   "outputs": [
    {
     "name": "stdout",
     "output_type": "stream",
     "text": [
      "hello_world\n"
     ]
    }
   ],
   "source": [
    "%%bash\n",
    "\n",
    "output_path=\"./test.txt\"\n",
    "text=\"hello_world\"\n",
    "echo $text > $output_path \n",
    "if [ -z \"$(cat $output_path)\" ]; then\n",
    "    echo \"not found\"\n",
    "    exit 1\n",
    "else\n",
    "    cat $output_path\n",
    "fi"
   ]
  },
  {
   "cell_type": "markdown",
   "id": "55af1b0f-6378-409d-9c9c-d6f3782cdd80",
   "metadata": {},
   "source": [
    "#### 2. `subprocess` package"
   ]
  },
  {
   "cell_type": "code",
   "execution_count": 12,
   "id": "abcb1a54-b530-47c0-a1fe-3b6949fff28e",
   "metadata": {},
   "outputs": [
    {
     "name": "stdout",
     "output_type": "stream",
     "text": [
      "hello_world\n"
     ]
    }
   ],
   "source": [
    "import subprocess\n",
    "\n",
    "script = \"\"\"\n",
    "output_path=\"./test.txt\"\n",
    "text=\"hello_world\"\n",
    "echo $text > $output_path \n",
    "if [ -z \"$(cat $output_path)\" ]; then\n",
    "    echo \"not found\"\n",
    "    exit 1\n",
    "else\n",
    "    cat $output_path\n",
    "fi\n",
    "\"\"\"\n",
    "\n",
    "out = subprocess.run(script, shell=True)"
   ]
  },
  {
   "cell_type": "markdown",
   "id": "801be41f-022f-48ae-a93b-bb4e896b6d1c",
   "metadata": {},
   "source": [
    "#### 3. `os.system` package"
   ]
  },
  {
   "cell_type": "code",
   "execution_count": 14,
   "id": "d585904a-2637-42a3-8552-b0a187861676",
   "metadata": {},
   "outputs": [
    {
     "name": "stdout",
     "output_type": "stream",
     "text": [
      "hello_world\n"
     ]
    }
   ],
   "source": [
    "import os\n",
    "\n",
    "\"\"\"\n",
    "output_path=\"./test.txt\"\n",
    "text=\"hello_world\"\n",
    "echo $text > $output_path \n",
    "if [ -z \"$(cat $output_path)\" ]; then\n",
    "    echo \"not found\"\n",
    "    exit 1\n",
    "else\n",
    "    cat $output_path\n",
    "fi\n",
    "\"\"\"\n",
    "\n",
    "out = os.system(script)"
   ]
  },
  {
   "cell_type": "markdown",
   "id": "f32b6e90-0bed-4bd6-9501-0d5e3d01faf6",
   "metadata": {},
   "source": [
    "# Exercise"
   ]
  },
  {
   "cell_type": "markdown",
   "id": "9650d75d-c526-4808-a1a6-02267a8fbe86",
   "metadata": {},
   "source": [
    "There is example bash script `script.sh` in `s1-exercise-1` and `s1-exercise-2` folder. You should solve:\n",
    "\n",
    "1. Run `s1-exercise/script-1.sh` using single line command\n",
    "2. Run multi-line bash script that compares `s1-exercise/script-1.sh` and `s1-exercise/script-2.sh`"
   ]
  },
  {
   "cell_type": "markdown",
   "id": "b6f07948-eb43-4fd9-8470-c1dd388f8cb9",
   "metadata": {},
   "source": [
    "## Exercise 1"
   ]
  },
  {
   "cell_type": "code",
   "execution_count": 37,
   "id": "2c7014c4-63cd-4354-8b3c-b3eaa5287cd2",
   "metadata": {},
   "outputs": [],
   "source": [
    "# add value to execute script-1.sh in s1-exercise folder\n",
    "/bin/bash s1-exercise/script-1 > s1-exercise/answer.1"
   ]
  },
  {
   "cell_type": "markdown",
   "id": "ba637e3c-adce-4b21-8070-17877934158f",
   "metadata": {},
   "source": [
    "## Exercise 2"
   ]
  },
  {
   "cell_type": "code",
   "execution_count": 38,
   "id": "e5c12409-97af-4bba-9541-1af310db4370",
   "metadata": {},
   "outputs": [],
   "source": [
    "# add value to execute script-1.sh and script-2.sh in s1-exercise folder\n",
    "out_1=\"$(/bin/bash s1-exercise/script-1)\"\n",
    "out_2=\"$(/bin/bash s1-exercise/script-2)\"\n",
    "if [ \"$out_1\" == \"$out_2\" ]; then\n",
    "    echo \"true\" > s1-exercise/answer.2\n",
    "else\n",
    "    echo \"false\" > s1-exercise/answer.2\n",
    "fi"
   ]
  },
  {
   "cell_type": "markdown",
   "id": "5f478735-6847-45a6-af10-0a2db64b223c",
   "metadata": {},
   "source": [
    "## Score"
   ]
  },
  {
   "cell_type": "code",
   "execution_count": 41,
   "id": "4ddb23e5-6161-4f64-a6ce-4508b7f1a974",
   "metadata": {},
   "outputs": [],
   "source": [
    "def read_file(filepath: str) -> str:\n",
    "    with open(filepath, \"r\") as file:\n",
    "        file_string = file.read().strip()\n",
    "    return file_string\n",
    "\n",
    "SCORE = 0\n",
    "answer_1 = read_file(\"./s1-exercise/answer.1\")\n",
    "answer_2 = read_file(\"./s1-exercise/answer.2\")\n",
    "\n",
    "if answer_1 == \"hello world\":\n",
    "    SCORE += 1\n",
    "if answer_2 == \"false\":\n",
    "    SCORE += 1\n",
    "\n",
    "if SCORE == 2:\n",
    "    print(\"Congratulation! You pass the test.\")\n",
    "else:\n",
    "    print(\"You fail the test. Please, try again.\")"
   ]
  }
 ],
 "metadata": {
  "kernelspec": {
   "display_name": "Python 3 (ipykernel)",
   "language": "python",
   "name": "python3"
  },
  "language_info": {
   "codemirror_mode": {
    "name": "ipython",
    "version": 3
   },
   "file_extension": ".py",
   "mimetype": "text/x-python",
   "name": "python",
   "nbconvert_exporter": "python",
   "pygments_lexer": "ipython3",
   "version": "3.11.6"
  }
 },
 "nbformat": 4,
 "nbformat_minor": 5
}
