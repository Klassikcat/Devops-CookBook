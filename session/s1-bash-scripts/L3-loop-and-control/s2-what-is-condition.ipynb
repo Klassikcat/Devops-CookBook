{
 "cells": [
  {
   "cell_type": "code",
   "execution_count": null,
   "id": "69657c00-1430-491c-a6d7-62eb32b41b63",
   "metadata": {},
   "outputs": [],
   "source": []
  }
 ],
 "metadata": {
  "kernelspec": {
   "display_name": "Python 3 (ipykernel)",
   "language": "python",
   "name": "python3"
  },
  "language_info": {
   "codemirror_mode": {
    "name": "ipython",
    "version": 3
   },
   "file_extension": ".py",
   "mimetype": "text/x-python",
   "name": "python",
   "nbconvert_exporter": "python",
   "pygments_lexer": "ipython3",
   "version": "3.11.6"
  }
 },
 "nbformat": 4,
 "nbformat_minor": 5
}
